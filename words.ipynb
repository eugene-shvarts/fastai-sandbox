{
 "cells": [
  {
   "cell_type": "markdown",
   "metadata": {},
   "source": [
    "# Counting length of a string\n",
    "Let's use a neural net to see if we can detect parity of a word; does it have an even or odd number of characters?"
   ]
  },
  {
   "cell_type": "markdown",
   "metadata": {},
   "source": [
    "### Import the data and grok it"
   ]
  },
  {
   "cell_type": "code",
   "execution_count": 2,
   "metadata": {},
   "outputs": [],
   "source": [
    "import json\n",
    "from pathlib import Path\n",
    "\n",
    "from fastai2.vision.all import *\n",
    "import pandas as pd\n",
    "import torch"
   ]
  },
  {
   "cell_type": "code",
   "execution_count": 3,
   "metadata": {},
   "outputs": [],
   "source": [
    "# this is a list of over 370,000 \"english words\", from https://github.com/dwyl/english-words\n",
    "# note that these aren't necessarily useful words; a lot of them seem pretty gibberish.\n",
    "path = Path('/storage/data/words_dictionary.json')"
   ]
  },
  {
   "cell_type": "code",
   "execution_count": 4,
   "metadata": {},
   "outputs": [],
   "source": [
    "# words is a dict object; the keys are the words, the values are irrelevant\n",
    "with path.open() as f:\n",
    "    words = json.load(f)"
   ]
  },
  {
   "cell_type": "code",
   "execution_count": 5,
   "metadata": {},
   "outputs": [
    {
     "name": "stdout",
     "output_type": "stream",
     "text": [
      "['a', 'aa', 'aaa', 'aah', 'aahed', 'aahing', 'aahs', 'aal', 'aalii', 'aaliis']\n"
     ]
    }
   ],
   "source": [
    "# we can look at some of them\n",
    "from itertools import islice\n",
    "print([word for word in islice(words.keys(), 10)])"
   ]
  },
  {
   "cell_type": "code",
   "execution_count": 6,
   "metadata": {},
   "outputs": [
    {
     "name": "stdout",
     "output_type": "stream",
     "text": [
      "['drawtubes', 'frantically', 'stilliest', 'vapulatory', 'scrotal', 'nonresistively', 'anthropogeographic', 'antimoniated', 'overhang', 'sundra']\n"
     ]
    }
   ],
   "source": [
    "# if we're willing to load the whole thing, we can look at random words\n",
    "from random import choice, randrange, sample\n",
    "\n",
    "word_list = list(words.keys())\n",
    "print(sample(word_list, 10))"
   ]
  },
  {
   "cell_type": "code",
   "execution_count": 7,
   "metadata": {},
   "outputs": [],
   "source": [
    "# let's define some function to learn.\n",
    "# here, I'm going to learn whether the word has an even or odd number of letters in it\n",
    "\n",
    "# as applied to a word or list of words\n",
    "def learn_fn(words):\n",
    "    if isinstance(words, str):\n",
    "        return len(words) % 2\n",
    "    return [len(word) % 2 for word in words]\n",
    "\n",
    "# as applied to a tensor\n",
    "def label_fn(vec):\n",
    "    return len(vec.nonzero()) % 2\n",
    "\n",
    "def label_str(label):\n",
    "    return 'odd' if label == 1 else 'even'"
   ]
  },
  {
   "cell_type": "code",
   "execution_count": 8,
   "metadata": {},
   "outputs": [
    {
     "data": {
      "text/plain": [
       "[('attroopment', 11, 1),\n",
       " ('foresense', 9, 1),\n",
       " ('scablike', 8, 0),\n",
       " ('wite', 4, 0),\n",
       " ('churchwomen', 11, 1),\n",
       " ('submanic', 8, 0),\n",
       " ('incohesive', 10, 0),\n",
       " ('shysters', 8, 0),\n",
       " ('smuggled', 8, 0),\n",
       " ('iodophors', 9, 1)]"
      ]
     },
     "execution_count": 8,
     "metadata": {},
     "output_type": "execute_result"
    }
   ],
   "source": [
    "[(word, len(word), learn_fn(word)) for word in sample(word_list, 10)]"
   ]
  },
  {
   "cell_type": "code",
   "execution_count": 9,
   "metadata": {},
   "outputs": [],
   "source": [
    "# let's try image techniques. Can get common-length numerical vectors using \n",
    "# ascii encoding of characters in the string, and 0-pad up to the maximum\n",
    "# word-length present in the dataset.\n",
    "\n",
    "# NOTE: for this dataset, we find maxlen = 31\n",
    "maxlen = max(len(word) for word in words)\n",
    "word_vecs = [\n",
    "    tensor([ord(c) for c in word] + [0] * (maxlen - len(word)))\n",
    "    for word in words.keys()\n",
    "]"
   ]
  },
  {
   "cell_type": "code",
   "execution_count": 10,
   "metadata": {},
   "outputs": [
    {
     "data": {
      "text/plain": [
       "'conjecturally'"
      ]
     },
     "execution_count": 10,
     "metadata": {},
     "output_type": "execute_result"
    }
   ],
   "source": [
    "# get the word back\n",
    "\n",
    "def vec2word(vec):\n",
    "    return ''.join(chr(n) for n in vec if n > 0)\n",
    "\n",
    "vec2word(choice(word_vecs))"
   ]
  },
  {
   "cell_type": "code",
   "execution_count": 11,
   "metadata": {},
   "outputs": [
    {
     "name": "stdout",
     "output_type": "stream",
     "text": [
      "Counter({31: 370101})\n",
      "microcosmically\n",
      "tensor([109, 105,  99, 114, 111,  99, 111, 115, 109, 105,  99,  97, 108, 108,\n",
      "        121,   0,   0,   0,   0,   0,   0,   0,   0,   0,   0,   0,   0,   0,\n",
      "          0,   0,   0])\n"
     ]
    }
   ],
   "source": [
    "# sanity check that we built the thing right\n",
    "\n",
    "# should find that each vec has the same length\n",
    "from collections import Counter\n",
    "print(Counter(len(vec) for vec in word_vecs))\n",
    "\n",
    "# should find that the entries correspond to the letters of the word\n",
    "w = choice(word_vecs)\n",
    "print(f'{vec2word(w)}\\n{w}')"
   ]
  },
  {
   "cell_type": "markdown",
   "metadata": {},
   "source": [
    "### baseline using pointwise distance to mean"
   ]
  },
  {
   "cell_type": "code",
   "execution_count": 12,
   "metadata": {},
   "outputs": [
    {
     "data": {
      "text/plain": [
       "122"
      ]
     },
     "execution_count": 12,
     "metadata": {},
     "output_type": "execute_result"
    }
   ],
   "source": [
    "# if we treat the words as \"images\", we want the entries to be in [0,1]; that means we need to know\n",
    "# how large the entries can be. As they are ascii ord() values for characters in [a:z], we just need to \n",
    "# scale by ord(z)\n",
    "maxchar = ord('z')\n",
    "maxchar"
   ]
  },
  {
   "cell_type": "code",
   "execution_count": 56,
   "metadata": {},
   "outputs": [],
   "source": [
    "# the tensors we construct need to be returned to integers before displaying\n",
    "def tens2word(tens):\n",
    "    return ''.join(chr(n * maxchar) for n in tens if n > 0)"
   ]
  },
  {
   "cell_type": "code",
   "execution_count": 13,
   "metadata": {},
   "outputs": [],
   "source": [
    "# lets construct a training and validation set\n",
    "# (normally we should be careful to split each class into training/validation;\n",
    "# here the classes are large and of about equal size so we should be fine)\n",
    "\n",
    "words_range = range(len(words))\n",
    "valid_inds = sample(words_range, int(0.2 * len(words)))\n",
    "valid_set = set(valid_inds)\n",
    "train_inds = [ind for ind in words_range if ind not in valid_set]\n",
    "\n",
    "words_stack = torch.stack(word_vecs).float()/maxchar\n",
    "train_stack = words_stack[train_inds]\n",
    "valid_stack = words_stack[valid_inds]"
   ]
  },
  {
   "cell_type": "code",
   "execution_count": 14,
   "metadata": {},
   "outputs": [
    {
     "name": "stdout",
     "output_type": "stream",
     "text": [
      "all: torch.Size([370101, 31])\n",
      "train: torch.Size([296081, 31])\n",
      "odd train: torch.Size([147869, 31])\n",
      "even train: torch.Size([148212, 31])\n"
     ]
    }
   ],
   "source": [
    "# separate the odds and evens out in our training set\n",
    "odds = words_stack[[i for i in train_inds if label_fn(word_vecs[i]) == 1]]\n",
    "evens =  words_stack[[i for i in train_inds if label_fn(word_vecs[i]) == 0]]\n",
    "\n",
    "# the size of a datapoint will be the total number of letters possible; maxlen from earlier\n",
    "print(f'all: {words_stack.size()}')\n",
    "print(f'train: {train_stack.size()}')\n",
    "print(f'odd train: {odds.size()}')\n",
    "print(f'even train: {evens.size()}')"
   ]
  },
  {
   "cell_type": "code",
   "execution_count": 15,
   "metadata": {},
   "outputs": [
    {
     "data": {
      "text/html": [
       "<style  type=\"text/css\" >\n",
       "    #T_0336a9ce_8677_11ea_9336_0242ac110002row0_col0 {\n",
       "            font-size:  6pt;\n",
       "            background-color:  #000000;\n",
       "            color:  #f1f1f1;\n",
       "        }    #T_0336a9ce_8677_11ea_9336_0242ac110002row0_col1 {\n",
       "            font-size:  6pt;\n",
       "            background-color:  #000000;\n",
       "            color:  #f1f1f1;\n",
       "        }    #T_0336a9ce_8677_11ea_9336_0242ac110002row0_col2 {\n",
       "            font-size:  6pt;\n",
       "            background-color:  #000000;\n",
       "            color:  #f1f1f1;\n",
       "        }    #T_0336a9ce_8677_11ea_9336_0242ac110002row1_col0 {\n",
       "            font-size:  6pt;\n",
       "            background-color:  #000000;\n",
       "            color:  #f1f1f1;\n",
       "        }    #T_0336a9ce_8677_11ea_9336_0242ac110002row1_col1 {\n",
       "            font-size:  6pt;\n",
       "            background-color:  #010101;\n",
       "            color:  #f1f1f1;\n",
       "        }    #T_0336a9ce_8677_11ea_9336_0242ac110002row1_col2 {\n",
       "            font-size:  6pt;\n",
       "            background-color:  #000000;\n",
       "            color:  #f1f1f1;\n",
       "        }    #T_0336a9ce_8677_11ea_9336_0242ac110002row2_col0 {\n",
       "            font-size:  6pt;\n",
       "            background-color:  #000000;\n",
       "            color:  #f1f1f1;\n",
       "        }    #T_0336a9ce_8677_11ea_9336_0242ac110002row2_col1 {\n",
       "            font-size:  6pt;\n",
       "            background-color:  #000000;\n",
       "            color:  #f1f1f1;\n",
       "        }    #T_0336a9ce_8677_11ea_9336_0242ac110002row2_col2 {\n",
       "            font-size:  6pt;\n",
       "            background-color:  #000000;\n",
       "            color:  #f1f1f1;\n",
       "        }    #T_0336a9ce_8677_11ea_9336_0242ac110002row3_col0 {\n",
       "            font-size:  6pt;\n",
       "            background-color:  #020202;\n",
       "            color:  #f1f1f1;\n",
       "        }    #T_0336a9ce_8677_11ea_9336_0242ac110002row3_col1 {\n",
       "            font-size:  6pt;\n",
       "            background-color:  #050505;\n",
       "            color:  #f1f1f1;\n",
       "        }    #T_0336a9ce_8677_11ea_9336_0242ac110002row3_col2 {\n",
       "            font-size:  6pt;\n",
       "            background-color:  #010101;\n",
       "            color:  #f1f1f1;\n",
       "        }    #T_0336a9ce_8677_11ea_9336_0242ac110002row4_col0 {\n",
       "            font-size:  6pt;\n",
       "            background-color:  #080808;\n",
       "            color:  #f1f1f1;\n",
       "        }    #T_0336a9ce_8677_11ea_9336_0242ac110002row4_col1 {\n",
       "            font-size:  6pt;\n",
       "            background-color:  #050505;\n",
       "            color:  #f1f1f1;\n",
       "        }    #T_0336a9ce_8677_11ea_9336_0242ac110002row4_col2 {\n",
       "            font-size:  6pt;\n",
       "            background-color:  #0d0d0d;\n",
       "            color:  #f1f1f1;\n",
       "        }    #T_0336a9ce_8677_11ea_9336_0242ac110002row5_col0 {\n",
       "            font-size:  6pt;\n",
       "            background-color:  #151515;\n",
       "            color:  #f1f1f1;\n",
       "        }    #T_0336a9ce_8677_11ea_9336_0242ac110002row5_col1 {\n",
       "            font-size:  6pt;\n",
       "            background-color:  #1e1e1e;\n",
       "            color:  #f1f1f1;\n",
       "        }    #T_0336a9ce_8677_11ea_9336_0242ac110002row5_col2 {\n",
       "            font-size:  6pt;\n",
       "            background-color:  #0d0d0d;\n",
       "            color:  #f1f1f1;\n",
       "        }    #T_0336a9ce_8677_11ea_9336_0242ac110002row6_col0 {\n",
       "            font-size:  6pt;\n",
       "            background-color:  #2f2f2f;\n",
       "            color:  #f1f1f1;\n",
       "        }    #T_0336a9ce_8677_11ea_9336_0242ac110002row6_col1 {\n",
       "            font-size:  6pt;\n",
       "            background-color:  #1e1e1e;\n",
       "            color:  #f1f1f1;\n",
       "        }    #T_0336a9ce_8677_11ea_9336_0242ac110002row6_col2 {\n",
       "            font-size:  6pt;\n",
       "            background-color:  #414141;\n",
       "            color:  #f1f1f1;\n",
       "        }    #T_0336a9ce_8677_11ea_9336_0242ac110002row7_col0 {\n",
       "            font-size:  6pt;\n",
       "            background-color:  #565656;\n",
       "            color:  #f1f1f1;\n",
       "        }    #T_0336a9ce_8677_11ea_9336_0242ac110002row7_col1 {\n",
       "            font-size:  6pt;\n",
       "            background-color:  #666666;\n",
       "            color:  #f1f1f1;\n",
       "        }    #T_0336a9ce_8677_11ea_9336_0242ac110002row7_col2 {\n",
       "            font-size:  6pt;\n",
       "            background-color:  #414141;\n",
       "            color:  #f1f1f1;\n",
       "        }    #T_0336a9ce_8677_11ea_9336_0242ac110002row8_col0 {\n",
       "            font-size:  6pt;\n",
       "            background-color:  #7b7b7b;\n",
       "            color:  #000000;\n",
       "        }    #T_0336a9ce_8677_11ea_9336_0242ac110002row8_col1 {\n",
       "            font-size:  6pt;\n",
       "            background-color:  #676767;\n",
       "            color:  #f1f1f1;\n",
       "        }    #T_0336a9ce_8677_11ea_9336_0242ac110002row8_col2 {\n",
       "            font-size:  6pt;\n",
       "            background-color:  #909090;\n",
       "            color:  #000000;\n",
       "        }    #T_0336a9ce_8677_11ea_9336_0242ac110002row9_col0 {\n",
       "            font-size:  6pt;\n",
       "            background-color:  #a5a5a5;\n",
       "            color:  #000000;\n",
       "        }    #T_0336a9ce_8677_11ea_9336_0242ac110002row9_col1 {\n",
       "            font-size:  6pt;\n",
       "            background-color:  #bababa;\n",
       "            color:  #000000;\n",
       "        }    #T_0336a9ce_8677_11ea_9336_0242ac110002row9_col2 {\n",
       "            font-size:  6pt;\n",
       "            background-color:  #919191;\n",
       "            color:  #000000;\n",
       "        }    #T_0336a9ce_8677_11ea_9336_0242ac110002row10_col0 {\n",
       "            font-size:  6pt;\n",
       "            background-color:  #c7c7c7;\n",
       "            color:  #000000;\n",
       "        }    #T_0336a9ce_8677_11ea_9336_0242ac110002row10_col1 {\n",
       "            font-size:  6pt;\n",
       "            background-color:  #bababa;\n",
       "            color:  #000000;\n",
       "        }    #T_0336a9ce_8677_11ea_9336_0242ac110002row10_col2 {\n",
       "            font-size:  6pt;\n",
       "            background-color:  #d4d4d4;\n",
       "            color:  #000000;\n",
       "        }    #T_0336a9ce_8677_11ea_9336_0242ac110002row11_col0 {\n",
       "            font-size:  6pt;\n",
       "            background-color:  #dddddd;\n",
       "            color:  #000000;\n",
       "        }    #T_0336a9ce_8677_11ea_9336_0242ac110002row11_col1 {\n",
       "            font-size:  6pt;\n",
       "            background-color:  #e6e6e6;\n",
       "            color:  #000000;\n",
       "        }    #T_0336a9ce_8677_11ea_9336_0242ac110002row11_col2 {\n",
       "            font-size:  6pt;\n",
       "            background-color:  #d4d4d4;\n",
       "            color:  #000000;\n",
       "        }    #T_0336a9ce_8677_11ea_9336_0242ac110002row12_col0 {\n",
       "            font-size:  6pt;\n",
       "            background-color:  #ececec;\n",
       "            color:  #000000;\n",
       "        }    #T_0336a9ce_8677_11ea_9336_0242ac110002row12_col1 {\n",
       "            font-size:  6pt;\n",
       "            background-color:  #e6e6e6;\n",
       "            color:  #000000;\n",
       "        }    #T_0336a9ce_8677_11ea_9336_0242ac110002row12_col2 {\n",
       "            font-size:  6pt;\n",
       "            background-color:  #f1f1f1;\n",
       "            color:  #000000;\n",
       "        }    #T_0336a9ce_8677_11ea_9336_0242ac110002row13_col0 {\n",
       "            font-size:  6pt;\n",
       "            background-color:  #f4f4f4;\n",
       "            color:  #000000;\n",
       "        }    #T_0336a9ce_8677_11ea_9336_0242ac110002row13_col1 {\n",
       "            font-size:  6pt;\n",
       "            background-color:  #f7f7f7;\n",
       "            color:  #000000;\n",
       "        }    #T_0336a9ce_8677_11ea_9336_0242ac110002row13_col2 {\n",
       "            font-size:  6pt;\n",
       "            background-color:  #f1f1f1;\n",
       "            color:  #000000;\n",
       "        }    #T_0336a9ce_8677_11ea_9336_0242ac110002row14_col0 {\n",
       "            font-size:  6pt;\n",
       "            background-color:  #f9f9f9;\n",
       "            color:  #000000;\n",
       "        }    #T_0336a9ce_8677_11ea_9336_0242ac110002row14_col1 {\n",
       "            font-size:  6pt;\n",
       "            background-color:  #f7f7f7;\n",
       "            color:  #000000;\n",
       "        }    #T_0336a9ce_8677_11ea_9336_0242ac110002row14_col2 {\n",
       "            font-size:  6pt;\n",
       "            background-color:  #fbfbfb;\n",
       "            color:  #000000;\n",
       "        }    #T_0336a9ce_8677_11ea_9336_0242ac110002row15_col0 {\n",
       "            font-size:  6pt;\n",
       "            background-color:  #fcfcfc;\n",
       "            color:  #000000;\n",
       "        }    #T_0336a9ce_8677_11ea_9336_0242ac110002row15_col1 {\n",
       "            font-size:  6pt;\n",
       "            background-color:  #fdfdfd;\n",
       "            color:  #000000;\n",
       "        }    #T_0336a9ce_8677_11ea_9336_0242ac110002row15_col2 {\n",
       "            font-size:  6pt;\n",
       "            background-color:  #fafafa;\n",
       "            color:  #000000;\n",
       "        }    #T_0336a9ce_8677_11ea_9336_0242ac110002row16_col0 {\n",
       "            font-size:  6pt;\n",
       "            background-color:  #fdfdfd;\n",
       "            color:  #000000;\n",
       "        }    #T_0336a9ce_8677_11ea_9336_0242ac110002row16_col1 {\n",
       "            font-size:  6pt;\n",
       "            background-color:  #fdfdfd;\n",
       "            color:  #000000;\n",
       "        }    #T_0336a9ce_8677_11ea_9336_0242ac110002row16_col2 {\n",
       "            font-size:  6pt;\n",
       "            background-color:  #fefefe;\n",
       "            color:  #000000;\n",
       "        }    #T_0336a9ce_8677_11ea_9336_0242ac110002row17_col0 {\n",
       "            font-size:  6pt;\n",
       "            background-color:  #fefefe;\n",
       "            color:  #000000;\n",
       "        }    #T_0336a9ce_8677_11ea_9336_0242ac110002row17_col1 {\n",
       "            font-size:  6pt;\n",
       "            background-color:  #ffffff;\n",
       "            color:  #000000;\n",
       "        }    #T_0336a9ce_8677_11ea_9336_0242ac110002row17_col2 {\n",
       "            font-size:  6pt;\n",
       "            background-color:  #fefefe;\n",
       "            color:  #000000;\n",
       "        }    #T_0336a9ce_8677_11ea_9336_0242ac110002row18_col0 {\n",
       "            font-size:  6pt;\n",
       "            background-color:  #ffffff;\n",
       "            color:  #000000;\n",
       "        }    #T_0336a9ce_8677_11ea_9336_0242ac110002row18_col1 {\n",
       "            font-size:  6pt;\n",
       "            background-color:  #ffffff;\n",
       "            color:  #000000;\n",
       "        }    #T_0336a9ce_8677_11ea_9336_0242ac110002row18_col2 {\n",
       "            font-size:  6pt;\n",
       "            background-color:  #ffffff;\n",
       "            color:  #000000;\n",
       "        }    #T_0336a9ce_8677_11ea_9336_0242ac110002row19_col0 {\n",
       "            font-size:  6pt;\n",
       "            background-color:  #ffffff;\n",
       "            color:  #000000;\n",
       "        }    #T_0336a9ce_8677_11ea_9336_0242ac110002row19_col1 {\n",
       "            font-size:  6pt;\n",
       "            background-color:  #ffffff;\n",
       "            color:  #000000;\n",
       "        }    #T_0336a9ce_8677_11ea_9336_0242ac110002row19_col2 {\n",
       "            font-size:  6pt;\n",
       "            background-color:  #ffffff;\n",
       "            color:  #000000;\n",
       "        }    #T_0336a9ce_8677_11ea_9336_0242ac110002row20_col0 {\n",
       "            font-size:  6pt;\n",
       "            background-color:  #ffffff;\n",
       "            color:  #000000;\n",
       "        }    #T_0336a9ce_8677_11ea_9336_0242ac110002row20_col1 {\n",
       "            font-size:  6pt;\n",
       "            background-color:  #ffffff;\n",
       "            color:  #000000;\n",
       "        }    #T_0336a9ce_8677_11ea_9336_0242ac110002row20_col2 {\n",
       "            font-size:  6pt;\n",
       "            background-color:  #ffffff;\n",
       "            color:  #000000;\n",
       "        }    #T_0336a9ce_8677_11ea_9336_0242ac110002row21_col0 {\n",
       "            font-size:  6pt;\n",
       "            background-color:  #ffffff;\n",
       "            color:  #000000;\n",
       "        }    #T_0336a9ce_8677_11ea_9336_0242ac110002row21_col1 {\n",
       "            font-size:  6pt;\n",
       "            background-color:  #ffffff;\n",
       "            color:  #000000;\n",
       "        }    #T_0336a9ce_8677_11ea_9336_0242ac110002row21_col2 {\n",
       "            font-size:  6pt;\n",
       "            background-color:  #ffffff;\n",
       "            color:  #000000;\n",
       "        }    #T_0336a9ce_8677_11ea_9336_0242ac110002row22_col0 {\n",
       "            font-size:  6pt;\n",
       "            background-color:  #ffffff;\n",
       "            color:  #000000;\n",
       "        }    #T_0336a9ce_8677_11ea_9336_0242ac110002row22_col1 {\n",
       "            font-size:  6pt;\n",
       "            background-color:  #ffffff;\n",
       "            color:  #000000;\n",
       "        }    #T_0336a9ce_8677_11ea_9336_0242ac110002row22_col2 {\n",
       "            font-size:  6pt;\n",
       "            background-color:  #ffffff;\n",
       "            color:  #000000;\n",
       "        }    #T_0336a9ce_8677_11ea_9336_0242ac110002row23_col0 {\n",
       "            font-size:  6pt;\n",
       "            background-color:  #ffffff;\n",
       "            color:  #000000;\n",
       "        }    #T_0336a9ce_8677_11ea_9336_0242ac110002row23_col1 {\n",
       "            font-size:  6pt;\n",
       "            background-color:  #ffffff;\n",
       "            color:  #000000;\n",
       "        }    #T_0336a9ce_8677_11ea_9336_0242ac110002row23_col2 {\n",
       "            font-size:  6pt;\n",
       "            background-color:  #ffffff;\n",
       "            color:  #000000;\n",
       "        }    #T_0336a9ce_8677_11ea_9336_0242ac110002row24_col0 {\n",
       "            font-size:  6pt;\n",
       "            background-color:  #ffffff;\n",
       "            color:  #000000;\n",
       "        }    #T_0336a9ce_8677_11ea_9336_0242ac110002row24_col1 {\n",
       "            font-size:  6pt;\n",
       "            background-color:  #ffffff;\n",
       "            color:  #000000;\n",
       "        }    #T_0336a9ce_8677_11ea_9336_0242ac110002row24_col2 {\n",
       "            font-size:  6pt;\n",
       "            background-color:  #ffffff;\n",
       "            color:  #000000;\n",
       "        }    #T_0336a9ce_8677_11ea_9336_0242ac110002row25_col0 {\n",
       "            font-size:  6pt;\n",
       "            background-color:  #ffffff;\n",
       "            color:  #000000;\n",
       "        }    #T_0336a9ce_8677_11ea_9336_0242ac110002row25_col1 {\n",
       "            font-size:  6pt;\n",
       "            background-color:  #ffffff;\n",
       "            color:  #000000;\n",
       "        }    #T_0336a9ce_8677_11ea_9336_0242ac110002row25_col2 {\n",
       "            font-size:  6pt;\n",
       "            background-color:  #ffffff;\n",
       "            color:  #000000;\n",
       "        }    #T_0336a9ce_8677_11ea_9336_0242ac110002row26_col0 {\n",
       "            font-size:  6pt;\n",
       "            background-color:  #ffffff;\n",
       "            color:  #000000;\n",
       "        }    #T_0336a9ce_8677_11ea_9336_0242ac110002row26_col1 {\n",
       "            font-size:  6pt;\n",
       "            background-color:  #ffffff;\n",
       "            color:  #000000;\n",
       "        }    #T_0336a9ce_8677_11ea_9336_0242ac110002row26_col2 {\n",
       "            font-size:  6pt;\n",
       "            background-color:  #ffffff;\n",
       "            color:  #000000;\n",
       "        }    #T_0336a9ce_8677_11ea_9336_0242ac110002row27_col0 {\n",
       "            font-size:  6pt;\n",
       "            background-color:  #ffffff;\n",
       "            color:  #000000;\n",
       "        }    #T_0336a9ce_8677_11ea_9336_0242ac110002row27_col1 {\n",
       "            font-size:  6pt;\n",
       "            background-color:  #ffffff;\n",
       "            color:  #000000;\n",
       "        }    #T_0336a9ce_8677_11ea_9336_0242ac110002row27_col2 {\n",
       "            font-size:  6pt;\n",
       "            background-color:  #ffffff;\n",
       "            color:  #000000;\n",
       "        }    #T_0336a9ce_8677_11ea_9336_0242ac110002row28_col0 {\n",
       "            font-size:  6pt;\n",
       "            background-color:  #ffffff;\n",
       "            color:  #000000;\n",
       "        }    #T_0336a9ce_8677_11ea_9336_0242ac110002row28_col1 {\n",
       "            font-size:  6pt;\n",
       "            background-color:  #ffffff;\n",
       "            color:  #000000;\n",
       "        }    #T_0336a9ce_8677_11ea_9336_0242ac110002row28_col2 {\n",
       "            font-size:  6pt;\n",
       "            background-color:  #ffffff;\n",
       "            color:  #000000;\n",
       "        }    #T_0336a9ce_8677_11ea_9336_0242ac110002row29_col0 {\n",
       "            font-size:  6pt;\n",
       "            background-color:  #ffffff;\n",
       "            color:  #000000;\n",
       "        }    #T_0336a9ce_8677_11ea_9336_0242ac110002row29_col1 {\n",
       "            font-size:  6pt;\n",
       "            background-color:  #ffffff;\n",
       "            color:  #000000;\n",
       "        }    #T_0336a9ce_8677_11ea_9336_0242ac110002row29_col2 {\n",
       "            font-size:  6pt;\n",
       "            background-color:  #ffffff;\n",
       "            color:  #000000;\n",
       "        }    #T_0336a9ce_8677_11ea_9336_0242ac110002row30_col0 {\n",
       "            font-size:  6pt;\n",
       "            background-color:  #ffffff;\n",
       "            color:  #000000;\n",
       "        }    #T_0336a9ce_8677_11ea_9336_0242ac110002row30_col1 {\n",
       "            font-size:  6pt;\n",
       "            background-color:  #ffffff;\n",
       "            color:  #000000;\n",
       "        }    #T_0336a9ce_8677_11ea_9336_0242ac110002row30_col2 {\n",
       "            font-size:  6pt;\n",
       "            background-color:  #ffffff;\n",
       "            color:  #000000;\n",
       "        }</style><table id=\"T_0336a9ce_8677_11ea_9336_0242ac110002\" ><thead>    <tr>        <th class=\"blank level0\" ></th>        <th class=\"col_heading level0 col0\" >train</th>        <th class=\"col_heading level0 col1\" >odd</th>        <th class=\"col_heading level0 col2\" >even</th>    </tr></thead><tbody>\n",
       "                <tr>\n",
       "                        <th id=\"T_0336a9ce_8677_11ea_9336_0242ac110002level0_row0\" class=\"row_heading level0 row0\" >0</th>\n",
       "                        <td id=\"T_0336a9ce_8677_11ea_9336_0242ac110002row0_col0\" class=\"data row0 col0\" >0.882319</td>\n",
       "                        <td id=\"T_0336a9ce_8677_11ea_9336_0242ac110002row0_col1\" class=\"data row0 col1\" >0.883605</td>\n",
       "                        <td id=\"T_0336a9ce_8677_11ea_9336_0242ac110002row0_col2\" class=\"data row0 col2\" >0.884008</td>\n",
       "            </tr>\n",
       "            <tr>\n",
       "                        <th id=\"T_0336a9ce_8677_11ea_9336_0242ac110002level0_row1\" class=\"row_heading level0 row1\" >1</th>\n",
       "                        <td id=\"T_0336a9ce_8677_11ea_9336_0242ac110002row1_col0\" class=\"data row1 col0\" >0.882161</td>\n",
       "                        <td id=\"T_0336a9ce_8677_11ea_9336_0242ac110002row1_col1\" class=\"data row1 col1\" >0.882130</td>\n",
       "                        <td id=\"T_0336a9ce_8677_11ea_9336_0242ac110002row1_col2\" class=\"data row1 col2\" >0.882181</td>\n",
       "            </tr>\n",
       "            <tr>\n",
       "                        <th id=\"T_0336a9ce_8677_11ea_9336_0242ac110002level0_row2\" class=\"row_heading level0 row2\" >2</th>\n",
       "                        <td id=\"T_0336a9ce_8677_11ea_9336_0242ac110002row2_col0\" class=\"data row2 col0\" >0.885533</td>\n",
       "                        <td id=\"T_0336a9ce_8677_11ea_9336_0242ac110002row2_col1\" class=\"data row2 col1\" >0.886314</td>\n",
       "                        <td id=\"T_0336a9ce_8677_11ea_9336_0242ac110002row2_col2\" class=\"data row2 col2\" >0.884494</td>\n",
       "            </tr>\n",
       "            <tr>\n",
       "                        <th id=\"T_0336a9ce_8677_11ea_9336_0242ac110002level0_row3\" class=\"row_heading level0 row3\" >3</th>\n",
       "                        <td id=\"T_0336a9ce_8677_11ea_9336_0242ac110002row3_col0\" class=\"data row3 col0\" >0.875868</td>\n",
       "                        <td id=\"T_0336a9ce_8677_11ea_9336_0242ac110002row3_col1\" class=\"data row3 col1\" >0.871911</td>\n",
       "                        <td id=\"T_0336a9ce_8677_11ea_9336_0242ac110002row3_col2\" class=\"data row3 col2\" >0.879888</td>\n",
       "            </tr>\n",
       "            <tr>\n",
       "                        <th id=\"T_0336a9ce_8677_11ea_9336_0242ac110002level0_row4\" class=\"row_heading level0 row4\" >4</th>\n",
       "                        <td id=\"T_0336a9ce_8677_11ea_9336_0242ac110002row4_col0\" class=\"data row4 col0\" >0.859043</td>\n",
       "                        <td id=\"T_0336a9ce_8677_11ea_9336_0242ac110002row4_col1\" class=\"data row4 col1\" >0.872066</td>\n",
       "                        <td id=\"T_0336a9ce_8677_11ea_9336_0242ac110002row4_col2\" class=\"data row4 col2\" >0.845894</td>\n",
       "            </tr>\n",
       "            <tr>\n",
       "                        <th id=\"T_0336a9ce_8677_11ea_9336_0242ac110002level0_row5\" class=\"row_heading level0 row5\" >5</th>\n",
       "                        <td id=\"T_0336a9ce_8677_11ea_9336_0242ac110002row5_col0\" class=\"data row5 col0\" >0.820721</td>\n",
       "                        <td id=\"T_0336a9ce_8677_11ea_9336_0242ac110002row5_col1\" class=\"data row5 col1\" >0.796266</td>\n",
       "                        <td id=\"T_0336a9ce_8677_11ea_9336_0242ac110002row5_col2\" class=\"data row5 col2\" >0.845006</td>\n",
       "            </tr>\n",
       "            <tr>\n",
       "                        <th id=\"T_0336a9ce_8677_11ea_9336_0242ac110002level0_row6\" class=\"row_heading level0 row6\" >6</th>\n",
       "                        <td id=\"T_0336a9ce_8677_11ea_9336_0242ac110002row6_col0\" class=\"data row6 col0\" >0.749339</td>\n",
       "                        <td id=\"T_0336a9ce_8677_11ea_9336_0242ac110002row6_col1\" class=\"data row6 col1\" >0.794724</td>\n",
       "                        <td id=\"T_0336a9ce_8677_11ea_9336_0242ac110002row6_col2\" class=\"data row6 col2\" >0.704108</td>\n",
       "            </tr>\n",
       "            <tr>\n",
       "                        <th id=\"T_0336a9ce_8677_11ea_9336_0242ac110002level0_row7\" class=\"row_heading level0 row7\" >7</th>\n",
       "                        <td id=\"T_0336a9ce_8677_11ea_9336_0242ac110002row7_col0\" class=\"data row7 col0\" >0.649917</td>\n",
       "                        <td id=\"T_0336a9ce_8677_11ea_9336_0242ac110002row7_col1\" class=\"data row7 col1\" >0.596948</td>\n",
       "                        <td id=\"T_0336a9ce_8677_11ea_9336_0242ac110002row7_col2\" class=\"data row7 col2\" >0.702796</td>\n",
       "            </tr>\n",
       "            <tr>\n",
       "                        <th id=\"T_0336a9ce_8677_11ea_9336_0242ac110002level0_row8\" class=\"row_heading level0 row8\" >8</th>\n",
       "                        <td id=\"T_0336a9ce_8677_11ea_9336_0242ac110002row8_col0\" class=\"data row8 col0\" >0.527484</td>\n",
       "                        <td id=\"T_0336a9ce_8677_11ea_9336_0242ac110002row8_col1\" class=\"data row8 col1\" >0.595354</td>\n",
       "                        <td id=\"T_0336a9ce_8677_11ea_9336_0242ac110002row8_col2\" class=\"data row8 col2\" >0.459819</td>\n",
       "            </tr>\n",
       "            <tr>\n",
       "                        <th id=\"T_0336a9ce_8677_11ea_9336_0242ac110002level0_row9\" class=\"row_heading level0 row9\" >9</th>\n",
       "                        <td id=\"T_0336a9ce_8677_11ea_9336_0242ac110002row9_col0\" class=\"data row9 col0\" >0.399860</td>\n",
       "                        <td id=\"T_0336a9ce_8677_11ea_9336_0242ac110002row9_col1\" class=\"data row9 col1\" >0.341841</td>\n",
       "                        <td id=\"T_0336a9ce_8677_11ea_9336_0242ac110002row9_col2\" class=\"data row9 col2\" >0.457735</td>\n",
       "            </tr>\n",
       "            <tr>\n",
       "                        <th id=\"T_0336a9ce_8677_11ea_9336_0242ac110002level0_row10\" class=\"row_heading level0 row10\" >10</th>\n",
       "                        <td id=\"T_0336a9ce_8677_11ea_9336_0242ac110002row10_col0\" class=\"data row10 col0\" >0.290661</td>\n",
       "                        <td id=\"T_0336a9ce_8677_11ea_9336_0242ac110002row10_col1\" class=\"data row10 col1\" >0.339878</td>\n",
       "                        <td id=\"T_0336a9ce_8677_11ea_9336_0242ac110002row10_col2\" class=\"data row10 col2\" >0.241543</td>\n",
       "            </tr>\n",
       "            <tr>\n",
       "                        <th id=\"T_0336a9ce_8677_11ea_9336_0242ac110002level0_row11\" class=\"row_heading level0 row11\" >11</th>\n",
       "                        <td id=\"T_0336a9ce_8677_11ea_9336_0242ac110002row11_col0\" class=\"data row11 col0\" >0.201535</td>\n",
       "                        <td id=\"T_0336a9ce_8677_11ea_9336_0242ac110002row11_col1\" class=\"data row11 col1\" >0.162342</td>\n",
       "                        <td id=\"T_0336a9ce_8677_11ea_9336_0242ac110002row11_col2\" class=\"data row11 col2\" >0.240628</td>\n",
       "            </tr>\n",
       "            <tr>\n",
       "                        <th id=\"T_0336a9ce_8677_11ea_9336_0242ac110002level0_row12\" class=\"row_heading level0 row12\" >12</th>\n",
       "                        <td id=\"T_0336a9ce_8677_11ea_9336_0242ac110002row12_col0\" class=\"data row12 col0\" >0.131910</td>\n",
       "                        <td id=\"T_0336a9ce_8677_11ea_9336_0242ac110002row12_col1\" class=\"data row12 col1\" >0.161989</td>\n",
       "                        <td id=\"T_0336a9ce_8677_11ea_9336_0242ac110002row12_col2\" class=\"data row12 col2\" >0.101880</td>\n",
       "            </tr>\n",
       "            <tr>\n",
       "                        <th id=\"T_0336a9ce_8677_11ea_9336_0242ac110002level0_row13\" class=\"row_heading level0 row13\" >13</th>\n",
       "                        <td id=\"T_0336a9ce_8677_11ea_9336_0242ac110002row13_col0\" class=\"data row13 col0\" >0.082194</td>\n",
       "                        <td id=\"T_0336a9ce_8677_11ea_9336_0242ac110002row13_col1\" class=\"data row13 col1\" >0.062164</td>\n",
       "                        <td id=\"T_0336a9ce_8677_11ea_9336_0242ac110002row13_col2\" class=\"data row13 col2\" >0.102167</td>\n",
       "            </tr>\n",
       "            <tr>\n",
       "                        <th id=\"T_0336a9ce_8677_11ea_9336_0242ac110002level0_row14\" class=\"row_heading level0 row14\" >14</th>\n",
       "                        <td id=\"T_0336a9ce_8677_11ea_9336_0242ac110002row14_col0\" class=\"data row14 col0\" >0.048369</td>\n",
       "                        <td id=\"T_0336a9ce_8677_11ea_9336_0242ac110002row14_col1\" class=\"data row14 col1\" >0.062560</td>\n",
       "                        <td id=\"T_0336a9ce_8677_11ea_9336_0242ac110002row14_col2\" class=\"data row14 col2\" >0.034211</td>\n",
       "            </tr>\n",
       "            <tr>\n",
       "                        <th id=\"T_0336a9ce_8677_11ea_9336_0242ac110002level0_row15\" class=\"row_heading level0 row15\" >15</th>\n",
       "                        <td id=\"T_0336a9ce_8677_11ea_9336_0242ac110002row15_col0\" class=\"data row15 col0\" >0.026820</td>\n",
       "                        <td id=\"T_0336a9ce_8677_11ea_9336_0242ac110002row15_col1\" class=\"data row15 col1\" >0.019026</td>\n",
       "                        <td id=\"T_0336a9ce_8677_11ea_9336_0242ac110002row15_col2\" class=\"data row15 col2\" >0.034598</td>\n",
       "            </tr>\n",
       "            <tr>\n",
       "                        <th id=\"T_0336a9ce_8677_11ea_9336_0242ac110002level0_row16\" class=\"row_heading level0 row16\" >16</th>\n",
       "                        <td id=\"T_0336a9ce_8677_11ea_9336_0242ac110002row16_col0\" class=\"data row16 col0\" >0.014291</td>\n",
       "                        <td id=\"T_0336a9ce_8677_11ea_9336_0242ac110002row16_col1\" class=\"data row16 col1\" >0.019333</td>\n",
       "                        <td id=\"T_0336a9ce_8677_11ea_9336_0242ac110002row16_col2\" class=\"data row16 col2\" >0.009260</td>\n",
       "            </tr>\n",
       "            <tr>\n",
       "                        <th id=\"T_0336a9ce_8677_11ea_9336_0242ac110002level0_row17\" class=\"row_heading level0 row17\" >17</th>\n",
       "                        <td id=\"T_0336a9ce_8677_11ea_9336_0242ac110002row17_col0\" class=\"data row17 col0\" >0.006972</td>\n",
       "                        <td id=\"T_0336a9ce_8677_11ea_9336_0242ac110002row17_col1\" class=\"data row17 col1\" >0.004478</td>\n",
       "                        <td id=\"T_0336a9ce_8677_11ea_9336_0242ac110002row17_col2\" class=\"data row17 col2\" >0.009461</td>\n",
       "            </tr>\n",
       "            <tr>\n",
       "                        <th id=\"T_0336a9ce_8677_11ea_9336_0242ac110002level0_row18\" class=\"row_heading level0 row18\" >18</th>\n",
       "                        <td id=\"T_0336a9ce_8677_11ea_9336_0242ac110002row18_col0\" class=\"data row18 col0\" >0.003397</td>\n",
       "                        <td id=\"T_0336a9ce_8677_11ea_9336_0242ac110002row18_col1\" class=\"data row18 col1\" >0.004594</td>\n",
       "                        <td id=\"T_0336a9ce_8677_11ea_9336_0242ac110002row18_col2\" class=\"data row18 col2\" >0.002203</td>\n",
       "            </tr>\n",
       "            <tr>\n",
       "                        <th id=\"T_0336a9ce_8677_11ea_9336_0242ac110002level0_row19\" class=\"row_heading level0 row19\" >19</th>\n",
       "                        <td id=\"T_0336a9ce_8677_11ea_9336_0242ac110002row19_col0\" class=\"data row19 col0\" >0.001633</td>\n",
       "                        <td id=\"T_0336a9ce_8677_11ea_9336_0242ac110002row19_col1\" class=\"data row19 col1\" >0.000995</td>\n",
       "                        <td id=\"T_0336a9ce_8677_11ea_9336_0242ac110002row19_col2\" class=\"data row19 col2\" >0.002269</td>\n",
       "            </tr>\n",
       "            <tr>\n",
       "                        <th id=\"T_0336a9ce_8677_11ea_9336_0242ac110002level0_row20\" class=\"row_heading level0 row20\" >20</th>\n",
       "                        <td id=\"T_0336a9ce_8677_11ea_9336_0242ac110002row20_col0\" class=\"data row20 col0\" >0.000724</td>\n",
       "                        <td id=\"T_0336a9ce_8677_11ea_9336_0242ac110002row20_col1\" class=\"data row20 col1\" >0.001020</td>\n",
       "                        <td id=\"T_0336a9ce_8677_11ea_9336_0242ac110002row20_col2\" class=\"data row20 col2\" >0.000428</td>\n",
       "            </tr>\n",
       "            <tr>\n",
       "                        <th id=\"T_0336a9ce_8677_11ea_9336_0242ac110002level0_row21\" class=\"row_heading level0 row21\" >21</th>\n",
       "                        <td id=\"T_0336a9ce_8677_11ea_9336_0242ac110002row21_col0\" class=\"data row21 col0\" >0.000312</td>\n",
       "                        <td id=\"T_0336a9ce_8677_11ea_9336_0242ac110002row21_col1\" class=\"data row21 col1\" >0.000184</td>\n",
       "                        <td id=\"T_0336a9ce_8677_11ea_9336_0242ac110002row21_col2\" class=\"data row21 col2\" >0.000440</td>\n",
       "            </tr>\n",
       "            <tr>\n",
       "                        <th id=\"T_0336a9ce_8677_11ea_9336_0242ac110002level0_row22\" class=\"row_heading level0 row22\" >22</th>\n",
       "                        <td id=\"T_0336a9ce_8677_11ea_9336_0242ac110002row22_col0\" class=\"data row22 col0\" >0.000123</td>\n",
       "                        <td id=\"T_0336a9ce_8677_11ea_9336_0242ac110002row22_col1\" class=\"data row22 col1\" >0.000187</td>\n",
       "                        <td id=\"T_0336a9ce_8677_11ea_9336_0242ac110002row22_col2\" class=\"data row22 col2\" >0.000060</td>\n",
       "            </tr>\n",
       "            <tr>\n",
       "                        <th id=\"T_0336a9ce_8677_11ea_9336_0242ac110002level0_row23\" class=\"row_heading level0 row23\" >23</th>\n",
       "                        <td id=\"T_0336a9ce_8677_11ea_9336_0242ac110002row23_col0\" class=\"data row23 col0\" >0.000056</td>\n",
       "                        <td id=\"T_0336a9ce_8677_11ea_9336_0242ac110002row23_col1\" class=\"data row23 col1\" >0.000053</td>\n",
       "                        <td id=\"T_0336a9ce_8677_11ea_9336_0242ac110002row23_col2\" class=\"data row23 col2\" >0.000060</td>\n",
       "            </tr>\n",
       "            <tr>\n",
       "                        <th id=\"T_0336a9ce_8677_11ea_9336_0242ac110002level0_row24\" class=\"row_heading level0 row24\" >24</th>\n",
       "                        <td id=\"T_0336a9ce_8677_11ea_9336_0242ac110002row24_col0\" class=\"data row24 col0\" >0.000033</td>\n",
       "                        <td id=\"T_0336a9ce_8677_11ea_9336_0242ac110002row24_col1\" class=\"data row24 col1\" >0.000053</td>\n",
       "                        <td id=\"T_0336a9ce_8677_11ea_9336_0242ac110002row24_col2\" class=\"data row24 col2\" >0.000012</td>\n",
       "            </tr>\n",
       "            <tr>\n",
       "                        <th id=\"T_0336a9ce_8677_11ea_9336_0242ac110002level0_row25\" class=\"row_heading level0 row25\" >25</th>\n",
       "                        <td id=\"T_0336a9ce_8677_11ea_9336_0242ac110002row25_col0\" class=\"data row25 col0\" >0.000021</td>\n",
       "                        <td id=\"T_0336a9ce_8677_11ea_9336_0242ac110002row25_col1\" class=\"data row25 col1\" >0.000030</td>\n",
       "                        <td id=\"T_0336a9ce_8677_11ea_9336_0242ac110002row25_col2\" class=\"data row25 col2\" >0.000012</td>\n",
       "            </tr>\n",
       "            <tr>\n",
       "                        <th id=\"T_0336a9ce_8677_11ea_9336_0242ac110002level0_row26\" class=\"row_heading level0 row26\" >26</th>\n",
       "                        <td id=\"T_0336a9ce_8677_11ea_9336_0242ac110002row26_col0\" class=\"data row26 col0\" >0.000022</td>\n",
       "                        <td id=\"T_0336a9ce_8677_11ea_9336_0242ac110002row26_col1\" class=\"data row26 col1\" >0.000031</td>\n",
       "                        <td id=\"T_0336a9ce_8677_11ea_9336_0242ac110002row26_col2\" class=\"data row26 col2\" >0.000012</td>\n",
       "            </tr>\n",
       "            <tr>\n",
       "                        <th id=\"T_0336a9ce_8677_11ea_9336_0242ac110002level0_row27\" class=\"row_heading level0 row27\" >27</th>\n",
       "                        <td id=\"T_0336a9ce_8677_11ea_9336_0242ac110002row27_col0\" class=\"data row27 col0\" >0.000015</td>\n",
       "                        <td id=\"T_0336a9ce_8677_11ea_9336_0242ac110002row27_col1\" class=\"data row27 col1\" >0.000018</td>\n",
       "                        <td id=\"T_0336a9ce_8677_11ea_9336_0242ac110002row27_col2\" class=\"data row27 col2\" >0.000012</td>\n",
       "            </tr>\n",
       "            <tr>\n",
       "                        <th id=\"T_0336a9ce_8677_11ea_9336_0242ac110002level0_row28\" class=\"row_heading level0 row28\" >28</th>\n",
       "                        <td id=\"T_0336a9ce_8677_11ea_9336_0242ac110002row28_col0\" class=\"data row28 col0\" >0.000008</td>\n",
       "                        <td id=\"T_0336a9ce_8677_11ea_9336_0242ac110002row28_col1\" class=\"data row28 col1\" >0.000017</td>\n",
       "                        <td id=\"T_0336a9ce_8677_11ea_9336_0242ac110002row28_col2\" class=\"data row28 col2\" >0.000000</td>\n",
       "            </tr>\n",
       "            <tr>\n",
       "                        <th id=\"T_0336a9ce_8677_11ea_9336_0242ac110002level0_row29\" class=\"row_heading level0 row29\" >29</th>\n",
       "                        <td id=\"T_0336a9ce_8677_11ea_9336_0242ac110002row29_col0\" class=\"data row29 col0\" >0.000003</td>\n",
       "                        <td id=\"T_0336a9ce_8677_11ea_9336_0242ac110002row29_col1\" class=\"data row29 col1\" >0.000006</td>\n",
       "                        <td id=\"T_0336a9ce_8677_11ea_9336_0242ac110002row29_col2\" class=\"data row29 col2\" >0.000000</td>\n",
       "            </tr>\n",
       "            <tr>\n",
       "                        <th id=\"T_0336a9ce_8677_11ea_9336_0242ac110002level0_row30\" class=\"row_heading level0 row30\" >30</th>\n",
       "                        <td id=\"T_0336a9ce_8677_11ea_9336_0242ac110002row30_col0\" class=\"data row30 col0\" >0.000003</td>\n",
       "                        <td id=\"T_0336a9ce_8677_11ea_9336_0242ac110002row30_col1\" class=\"data row30 col1\" >0.000006</td>\n",
       "                        <td id=\"T_0336a9ce_8677_11ea_9336_0242ac110002row30_col2\" class=\"data row30 col2\" >0.000000</td>\n",
       "            </tr>\n",
       "    </tbody></table>"
      ],
      "text/plain": [
       "<pandas.io.formats.style.Styler at 0x7f4ca8d2ef50>"
      ]
     },
     "execution_count": 15,
     "metadata": {},
     "output_type": "execute_result"
    }
   ],
   "source": [
    "# let's visualize the mean values for each class\n",
    "train_mean = train_stack.mean(0)\n",
    "odd_mean = odds.mean(0)\n",
    "even_mean = evens.mean(0)\n",
    "df = pd.DataFrame({'train': train_mean, 'odd': odd_mean, 'even': even_mean})\n",
    "df.style.set_properties(**{'font-size':'6pt'}).background_gradient('Greys')"
   ]
  },
  {
   "cell_type": "code",
   "execution_count": 16,
   "metadata": {},
   "outputs": [
    {
     "name": "stdout",
     "output_type": "stream",
     "text": [
      "shadchanim is even. odd mse: 0.0215, even mse: 0.0179\n"
     ]
    }
   ],
   "source": [
    "# we can use MSE between means as a metric.\n",
    "ind = randrange(words_stack.size(0))\n",
    "vec = words_stack[ind]\n",
    "print(f'{word_list[ind]} is {label_str(label_fn(vec))}. odd mse: {F.mse_loss(vec, odd_mean):.4f}, even mse: {F.mse_loss(vec, even_mean):.4f}')"
   ]
  },
  {
   "cell_type": "code",
   "execution_count": 17,
   "metadata": {},
   "outputs": [],
   "source": [
    "# overall performance by comparing to mean via MSE\n",
    "# don't see an obvious way to use mse_loss on stack vs. individual (i.e., the broadcast semantics)\n",
    "def word_dist(a,b):\n",
    "    return ((a - b)**2).mean(-1).sqrt()\n",
    "\n",
    "def is_odd(x):\n",
    "    return word_dist(x, odd_mean) < word_dist(x, even_mean)"
   ]
  },
  {
   "cell_type": "code",
   "execution_count": 18,
   "metadata": {},
   "outputs": [
    {
     "data": {
      "text/plain": [
       "(tensor(0.8938), tensor(0.9244), tensor(0.9091))"
      ]
     },
     "execution_count": 18,
     "metadata": {},
     "output_type": "execute_result"
    }
   ],
   "source": [
    "# classes are same size so it's not insane to be lazy and average validation accuracy\n",
    "odds_valid = words_stack[[i for i in valid_inds if label_fn(word_vecs[i]) == 1]]\n",
    "evens_valid =  words_stack[[i for i in valid_inds if label_fn(word_vecs[i]) == 0]]\n",
    "\n",
    "odd_accuracy = is_odd(odds_valid).float().mean()\n",
    "even_accuracy = (1 - is_odd(evens_valid).float()).mean()\n",
    "\n",
    "odd_accuracy, even_accuracy, (odd_accuracy + even_accuracy)/2"
   ]
  },
  {
   "cell_type": "markdown",
   "metadata": {},
   "source": [
    "not bad! ~92% accuracy"
   ]
  },
  {
   "cell_type": "markdown",
   "metadata": {},
   "source": [
    "### train a fastai Learner"
   ]
  },
  {
   "cell_type": "code",
   "execution_count": 64,
   "metadata": {},
   "outputs": [],
   "source": [
    "# let's construct a Dataset and a DataLoader\n",
    "dset = L((tens, label_fn(tens)) for tens in words_stack)\n",
    "dl = DataLoader(dset, batch_size=64, shuffle=True)"
   ]
  },
  {
   "cell_type": "code",
   "execution_count": 65,
   "metadata": {},
   "outputs": [
    {
     "data": {
      "text/plain": [
       "[('disorganised', 0),\n",
       " ('furnarius', 1),\n",
       " ('rehabilitate', 0),\n",
       " ('untallied', 1),\n",
       " ('premiated', 1),\n",
       " ('digitinerved', 0),\n",
       " ('savorlessness', 1),\n",
       " ('concernedly', 1),\n",
       " ('dalf', 0),\n",
       " ('moism', 1),\n",
       " ('epirrheme', 1),\n",
       " ('humours', 1),\n",
       " ('flotson', 1),\n",
       " ('cointers', 0),\n",
       " ('caup', 0),\n",
       " ('techne', 0),\n",
       " ('ingenu', 0),\n",
       " ('raffish', 1),\n",
       " ('trehala', 1),\n",
       " ('allocatee', 1),\n",
       " ('hypopharyngeal', 0),\n",
       " ('epicyesis', 1),\n",
       " ('quart', 1),\n",
       " ('characterological', 1),\n",
       " ('discepts', 0),\n",
       " ('stabilization', 1),\n",
       " ('priestship', 0),\n",
       " ('biennia', 1),\n",
       " ('altars', 0),\n",
       " ('nonextensible', 1),\n",
       " ('recomprehend', 0),\n",
       " ('autodialed', 0),\n",
       " ('berzeliite', 0),\n",
       " ('sultanates', 0),\n",
       " ('thiostannic', 1),\n",
       " ('demibrute', 1),\n",
       " ('hyperpyramid', 0),\n",
       " ('anthrapurpurin', 0),\n",
       " ('exantlation', 1),\n",
       " ('contentiously', 1),\n",
       " ('puddingheaded', 1),\n",
       " ('pecksniffian', 0),\n",
       " ('cowwheat', 0),\n",
       " ('misgauges', 1),\n",
       " ('karting', 1),\n",
       " ('anxiety', 1),\n",
       " ('sphenocephalous', 1),\n",
       " ('celtillyrians', 1),\n",
       " ('debituminize', 0),\n",
       " ('gimmer', 0),\n",
       " ('haleness', 0),\n",
       " ('sinopite', 0),\n",
       " ('bobization', 0),\n",
       " ('antichamber', 1),\n",
       " ('extendability', 1),\n",
       " ('ganglioneure', 0),\n",
       " ('kpuesi', 0),\n",
       " ('classicalist', 0),\n",
       " ('gargalize', 1),\n",
       " ('overgrievousness', 0),\n",
       " ('uncourting', 0),\n",
       " ('dhyana', 0),\n",
       " ('nonaffinities', 1),\n",
       " ('nativist', 0)]"
      ]
     },
     "execution_count": 65,
     "metadata": {},
     "output_type": "execute_result"
    }
   ],
   "source": [
    "# let's examine a batch from the DataLoader\n",
    "[(tens2word(tens), label.item()) for (tens, label) in zip(*first(dl))]"
   ]
  },
  {
   "cell_type": "code",
   "execution_count": null,
   "metadata": {},
   "outputs": [],
   "source": [
    "# we need a loss function, and a metric to track\n",
    "# for the loss, want to push "
   ]
  },
  {
   "cell_type": "code",
   "execution_count": null,
   "metadata": {},
   "outputs": [],
   "source": [
    "# let's start with a linear regression\n",
    "linear_model = nn.Linear(len(words), 1)\n",
    "learn = Learner(dls, linear_model, opt_func=SGD, loss_func=, metrics=)"
   ]
  },
  {
   "cell_type": "code",
   "execution_count": 70,
   "metadata": {},
   "outputs": [],
   "source": [
    "tst = CrossEntropyLossFlat()\n",
    "out = torch.randn(32, 5, 10)\n",
    "tar = torch.randint(0, 10, (32, 5))"
   ]
  },
  {
   "cell_type": "code",
   "execution_count": 72,
   "metadata": {},
   "outputs": [
    {
     "data": {
      "text/plain": [
       "torch.Size([32, 5, 10])"
      ]
     },
     "execution_count": 72,
     "metadata": {},
     "output_type": "execute_result"
    }
   ],
   "source": [
    "out.size()"
   ]
  },
  {
   "cell_type": "code",
   "execution_count": null,
   "metadata": {},
   "outputs": [],
   "source": []
  },
  {
   "cell_type": "code",
   "execution_count": 76,
   "metadata": {},
   "outputs": [
    {
     "name": "stdout",
     "output_type": "stream",
     "text": [
      "['antidisestablishmentarianism', 'hydroxydehydrocorticosterone']\n"
     ]
    }
   ],
   "source": [
    "print([word for word in words if len(word) == 28])"
   ]
  },
  {
   "cell_type": "code",
   "execution_count": null,
   "metadata": {},
   "outputs": [],
   "source": []
  },
  {
   "cell_type": "code",
   "execution_count": null,
   "metadata": {},
   "outputs": [],
   "source": []
  },
  {
   "cell_type": "code",
   "execution_count": null,
   "metadata": {},
   "outputs": [],
   "source": []
  },
  {
   "cell_type": "code",
   "execution_count": null,
   "metadata": {},
   "outputs": [],
   "source": []
  },
  {
   "cell_type": "code",
   "execution_count": null,
   "metadata": {},
   "outputs": [],
   "source": []
  },
  {
   "cell_type": "code",
   "execution_count": 9,
   "metadata": {},
   "outputs": [],
   "source": [
    "# let's turn this data in to a dataframe to prepare for turning it into a fastai2.text.TextDataLoader\n",
    "import pandas as pd\n",
    "\n",
    "df = pd.DataFrame({'text': word_list, 'label': learn_fn(word_list)})"
   ]
  },
  {
   "cell_type": "code",
   "execution_count": null,
   "metadata": {},
   "outputs": [],
   "source": []
  }
 ],
 "metadata": {
  "kernelspec": {
   "display_name": "Python 3",
   "language": "python",
   "name": "python3"
  },
  "language_info": {
   "codemirror_mode": {
    "name": "ipython",
    "version": 3
   },
   "file_extension": ".py",
   "mimetype": "text/x-python",
   "name": "python",
   "nbconvert_exporter": "python",
   "pygments_lexer": "ipython3",
   "version": "3.7.6"
  }
 },
 "nbformat": 4,
 "nbformat_minor": 4
}
